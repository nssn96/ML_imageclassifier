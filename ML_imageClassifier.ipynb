{
  "nbformat": 4,
  "nbformat_minor": 0,
  "metadata": {
    "colab": {
      "name": "ML_imageClassifier.ipynb",
      "provenance": [],
      "authorship_tag": "ABX9TyNaY5fwZBZSi0ihl03759iS",
      "include_colab_link": true
    },
    "kernelspec": {
      "name": "python3",
      "display_name": "Python 3"
    },
    "language_info": {
      "name": "python"
    }
  },
  "cells": [
    {
      "cell_type": "markdown",
      "metadata": {
        "id": "view-in-github",
        "colab_type": "text"
      },
      "source": [
        "<a href=\"https://colab.research.google.com/github/nssn96/ML_imageclassifier/blob/main/ML_imageClassifier.ipynb\" target=\"_parent\"><img src=\"https://colab.research.google.com/assets/colab-badge.svg\" alt=\"Open In Colab\"/></a>"
      ]
    },
    {
      "cell_type": "markdown",
      "source": [
        "# ML Assignment 5 - Image Classification\n",
        "\n",
        "\n",
        "1.   Author : Surya Narayanan Nadhamuni Suresh\n",
        "2.   UTA ID : 1001877873\n"
      ],
      "metadata": {
        "id": "cB7z5EzKjITQ"
      }
    },
    {
      "cell_type": "code",
      "execution_count": 9,
      "metadata": {
        "id": "RviIAPw1i5IH"
      },
      "outputs": [],
      "source": [
        "#import lines\n",
        "import numpy as np\n",
        "import pandas as pd\n",
        "import matplotlib.pyplot as plt\n",
        "from sklearn.model_selection import train_test_split\n",
        "\n",
        "import torch\n",
        "import torchvision\n",
        "import torchvision.transforms as transforms\n",
        "import tensorflow_datasets as tfds\n",
        "from torchvision.datasets import Food101"
      ]
    },
    {
      "cell_type": "code",
      "source": [
        "#References\n",
        "#https://www.geeksforgeeks.org/training-neural-networks-using-pytorch-lightning/\n",
        "#https://www.kaggle.com/code/uzairshahmdn/food101-midterm-exam\n",
        "#https://www.kaggle.com/code/darthgera/food101-resnet-50-pytorch\n",
        "#https://www.kaggle.com/code/ajaykrishnabandari/food-101\n",
        "#https://www.kaggle.com/code/odednir/multiclass-food-classification-using-tensorflow"
      ],
      "metadata": {
        "id": "2Yryoz6KolNx"
      },
      "execution_count": 4,
      "outputs": []
    },
    {
      "cell_type": "code",
      "source": [
        "#Installing pytorch lighting\n",
        "#pip install pytorch-lightning lightning-bolts\n",
        "!pip install pytorch-lightning\n"
      ],
      "metadata": {
        "id": "jc8WpinQpIWe"
      },
      "execution_count": null,
      "outputs": []
    },
    {
      "cell_type": "code",
      "source": [
        "import pytorch_lightning as pl"
      ],
      "metadata": {
        "id": "6avfeu2f_lDr"
      },
      "execution_count": 10,
      "outputs": []
    },
    {
      "cell_type": "code",
      "source": [
        "#Reference Used for loading the dataset\n",
        "#https://colab.research.google.com/drive/1Z5-LqlJxNslHcCzM9jChsNhGi9Y7HSC4#scrollTo=f88XvEBTQBS9\n",
        "#Loading the food101 dataset\n",
        "#food, info = tfds.load(\"food101\", with_info=True)\n",
        "#ds = tfds.load('huggingface:food101')\n",
        "import os\n",
        "def get_data_extract():\n",
        "  if \"food-101\" in os.listdir():\n",
        "    print(\"Dataset already exists\")\n",
        "  else:\n",
        "    print(\"Downloading the data...\")\n",
        "    !wget http://data.vision.ee.ethz.ch/cvl/food-101.tar.gz\n",
        "    print(\"Dataset downloaded!\")\n",
        "    print(\"Extracting data..\")\n",
        "    !tar xzvf food-101.tar.gz\n",
        "    print(\"Extraction done!\")\n",
        "\n",
        "# get_data_extract()"
      ],
      "metadata": {
        "id": "JaLomDGVuyE7"
      },
      "execution_count": null,
      "outputs": []
    },
    {
      "cell_type": "code",
      "source": [
        "#contents inside the folder\n",
        "!ls food-101/"
      ],
      "metadata": {
        "colab": {
          "base_uri": "https://localhost:8080/"
        },
        "id": "DxeuddMVe6rd",
        "outputId": "2e0472a5-e3fe-4d62-d73a-d4be6ea461c2"
      },
      "execution_count": 18,
      "outputs": [
        {
          "output_type": "stream",
          "name": "stdout",
          "text": [
            "images\tlicense_agreement.txt  meta  README.txt\n"
          ]
        }
      ]
    },
    {
      "cell_type": "code",
      "source": [
        "!ls food-101/meta"
      ],
      "metadata": {
        "colab": {
          "base_uri": "https://localhost:8080/"
        },
        "id": "OIu1ioazgaUY",
        "outputId": "7c6aea14-e57e-4dd5-eb5e-a9a5f6f67884"
      },
      "execution_count": 21,
      "outputs": [
        {
          "output_type": "stream",
          "name": "stdout",
          "text": [
            "classes.txt  labels.txt  test.json  test.txt  train.json  train.txt\n"
          ]
        }
      ]
    },
    {
      "cell_type": "markdown",
      "source": [
        "From above output we can see that we have the train dataset in train.txt and the test dataset in the test.txt"
      ],
      "metadata": {
        "id": "hdX5nyUDkXpu"
      }
    },
    {
      "cell_type": "code",
      "source": [
        "#checking some of the data in the train.txt file\n",
        "!head 'food-101/meta/train.txt'"
      ],
      "metadata": {
        "colab": {
          "base_uri": "https://localhost:8080/"
        },
        "id": "pDUQaVDYlRJR",
        "outputId": "360a4d03-dc6c-4ed6-f82b-a8d33d0c229c"
      },
      "execution_count": 24,
      "outputs": [
        {
          "output_type": "stream",
          "name": "stdout",
          "text": [
            "apple_pie/1005649\n",
            "apple_pie/1014775\n",
            "apple_pie/1026328\n",
            "apple_pie/1028787\n",
            "apple_pie/1043283\n",
            "apple_pie/1050519\n",
            "apple_pie/1057749\n",
            "apple_pie/1057810\n",
            "apple_pie/1072416\n",
            "apple_pie/1074856\n"
          ]
        }
      ]
    },
    {
      "cell_type": "markdown",
      "source": [
        "image ids are unique and correspond to the foodspotting.com review ids"
      ],
      "metadata": {
        "id": "QGGIfgTylz_z"
      }
    },
    {
      "cell_type": "code",
      "source": [
        "#The image folder contains 101 folders of food class with 1000 images in each\n",
        "os.listdir('food-101/images')"
      ],
      "metadata": {
        "id": "KCUghUiVg557"
      },
      "execution_count": null,
      "outputs": []
    },
    {
      "cell_type": "code",
      "source": [
        ""
      ],
      "metadata": {
        "id": "_ayFV3CoynpA"
      },
      "execution_count": null,
      "outputs": []
    }
  ]
}