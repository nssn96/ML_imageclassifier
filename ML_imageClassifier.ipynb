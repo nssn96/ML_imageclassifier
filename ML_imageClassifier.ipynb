{
  "nbformat": 4,
  "nbformat_minor": 0,
  "metadata": {
    "colab": {
      "name": "ML_imageClassifier.ipynb",
      "provenance": [],
      "authorship_tag": "ABX9TyPZ70WelaNa8t3pTFOSCEZ1",
      "include_colab_link": true
    },
    "kernelspec": {
      "name": "python3",
      "display_name": "Python 3"
    },
    "language_info": {
      "name": "python"
    }
  },
  "cells": [
    {
      "cell_type": "markdown",
      "metadata": {
        "id": "view-in-github",
        "colab_type": "text"
      },
      "source": [
        "<a href=\"https://colab.research.google.com/github/nssn96/ML_imageclassifier/blob/main/ML_imageClassifier.ipynb\" target=\"_parent\"><img src=\"https://colab.research.google.com/assets/colab-badge.svg\" alt=\"Open In Colab\"/></a>"
      ]
    },
    {
      "cell_type": "markdown",
      "source": [
        "# ML Assignment 5 - Image Classification\n",
        "\n",
        "\n",
        "1.   Author : Surya Narayanan Nadhamuni Suresh\n",
        "2.   UTA ID : 1001877873\n"
      ],
      "metadata": {
        "id": "cB7z5EzKjITQ"
      }
    },
    {
      "cell_type": "code",
      "execution_count": 26,
      "metadata": {
        "id": "RviIAPw1i5IH"
      },
      "outputs": [],
      "source": [
        "#import lines\n",
        "import numpy as np\n",
        "import pandas as pd\n",
        "import matplotlib.pyplot as plt\n",
        "from sklearn.model_selection import train_test_split\n",
        "\n",
        "import torch\n",
        "import torchvision\n",
        "import torchvision.transforms as transforms\n",
        "import tensorflow_datasets as tfds\n",
        "from torchvision.datasets import Food101\n",
        "\n",
        "from torch import nn\n",
        "import torchmetrics\n",
        "from torch.utils.data import DataLoader, random_split\n"
      ]
    },
    {
      "cell_type": "code",
      "source": [
        "#References\n",
        "#https://www.geeksforgeeks.org/training-neural-networks-using-pytorch-lightning/\n",
        "#https://www.kaggle.com/code/uzairshahmdn/food101-midterm-exam\n",
        "#https://www.kaggle.com/code/darthgera/food101-resnet-50-pytorch\n",
        "#https://www.kaggle.com/code/ajaykrishnabandari/food-101\n",
        "#https://www.kaggle.com/code/odednir/multiclass-food-classification-using-tensorflow"
      ],
      "metadata": {
        "id": "2Yryoz6KolNx"
      },
      "execution_count": 4,
      "outputs": []
    },
    {
      "cell_type": "code",
      "source": [
        "#Installing pytorch lighting\n",
        "#pip install pytorch-lightning lightning-bolts\n",
        "!pip install pytorch-lightning\n"
      ],
      "metadata": {
        "id": "jc8WpinQpIWe"
      },
      "execution_count": null,
      "outputs": []
    },
    {
      "cell_type": "code",
      "source": [
        "import pytorch_lightning as pl"
      ],
      "metadata": {
        "id": "6avfeu2f_lDr"
      },
      "execution_count": 10,
      "outputs": []
    },
    {
      "cell_type": "code",
      "source": [
        "#Reference Used for loading the dataset\n",
        "#https://colab.research.google.com/drive/1Z5-LqlJxNslHcCzM9jChsNhGi9Y7HSC4#scrollTo=f88XvEBTQBS9\n",
        "#Loading the food101 dataset\n",
        "#food, info = tfds.load(\"food101\", with_info=True)\n",
        "#ds = tfds.load('huggingface:food101')\n",
        "import os\n",
        "def get_data_extract():\n",
        "  if \"food-101\" in os.listdir():\n",
        "    print(\"Dataset already exists\")\n",
        "  else:\n",
        "    print(\"Downloading the data...\")\n",
        "    !wget http://data.vision.ee.ethz.ch/cvl/food-101.tar.gz\n",
        "    print(\"Dataset downloaded!\")\n",
        "    print(\"Extracting data..\")\n",
        "    !tar xzvf food-101.tar.gz\n",
        "    print(\"Extraction done!\")\n",
        "\n",
        "# get_data_extract()"
      ],
      "metadata": {
        "id": "JaLomDGVuyE7"
      },
      "execution_count": null,
      "outputs": []
    },
    {
      "cell_type": "code",
      "source": [
        "#contents inside the folder\n",
        "!ls food-101/"
      ],
      "metadata": {
        "colab": {
          "base_uri": "https://localhost:8080/"
        },
        "id": "DxeuddMVe6rd",
        "outputId": "2e0472a5-e3fe-4d62-d73a-d4be6ea461c2"
      },
      "execution_count": 18,
      "outputs": [
        {
          "output_type": "stream",
          "name": "stdout",
          "text": [
            "images\tlicense_agreement.txt  meta  README.txt\n"
          ]
        }
      ]
    },
    {
      "cell_type": "code",
      "source": [
        "!ls food-101/meta"
      ],
      "metadata": {
        "colab": {
          "base_uri": "https://localhost:8080/"
        },
        "id": "OIu1ioazgaUY",
        "outputId": "7c6aea14-e57e-4dd5-eb5e-a9a5f6f67884"
      },
      "execution_count": 21,
      "outputs": [
        {
          "output_type": "stream",
          "name": "stdout",
          "text": [
            "classes.txt  labels.txt  test.json  test.txt  train.json  train.txt\n"
          ]
        }
      ]
    },
    {
      "cell_type": "markdown",
      "source": [
        "From above output we can see that we have the train dataset in train.txt and the test dataset in the test.txt"
      ],
      "metadata": {
        "id": "hdX5nyUDkXpu"
      }
    },
    {
      "cell_type": "code",
      "source": [
        "#checking some of the data in the train.txt file\n",
        "!head 'food-101/meta/train.txt'"
      ],
      "metadata": {
        "colab": {
          "base_uri": "https://localhost:8080/"
        },
        "id": "pDUQaVDYlRJR",
        "outputId": "360a4d03-dc6c-4ed6-f82b-a8d33d0c229c"
      },
      "execution_count": 24,
      "outputs": [
        {
          "output_type": "stream",
          "name": "stdout",
          "text": [
            "apple_pie/1005649\n",
            "apple_pie/1014775\n",
            "apple_pie/1026328\n",
            "apple_pie/1028787\n",
            "apple_pie/1043283\n",
            "apple_pie/1050519\n",
            "apple_pie/1057749\n",
            "apple_pie/1057810\n",
            "apple_pie/1072416\n",
            "apple_pie/1074856\n"
          ]
        }
      ]
    },
    {
      "cell_type": "markdown",
      "source": [
        "image ids are unique and correspond to the foodspotting.com review ids"
      ],
      "metadata": {
        "id": "QGGIfgTylz_z"
      }
    },
    {
      "cell_type": "code",
      "source": [
        "#The image folder contains 101 folders of food class with 1000 images in each\n",
        "os.listdir('food-101/images')"
      ],
      "metadata": {
        "id": "KCUghUiVg557"
      },
      "execution_count": null,
      "outputs": []
    },
    {
      "cell_type": "markdown",
      "source": [
        "Visualizing some of the images from the dataset"
      ],
      "metadata": {
        "id": "v4iWx7Xomk80"
      }
    },
    {
      "cell_type": "code",
      "source": [
        "#References\n",
        "#https://www.kaggle.com/code/odednir/multiclass-food-classification-using-tensorflow\n",
        "# Visualize the data, showing one image per class from 101 classes\n",
        "rows = 17\n",
        "cols = 6\n",
        "fig, ax = plt.subplots(rows, cols, figsize=(25,25))\n",
        "fig.suptitle(\"Showing one random image from each class\", y=1.05, fontsize=24) # Adding  y=1.05, fontsize=24 helped me fix the suptitle overlapping with axes issue\n",
        "data_dir = \"food-101/images/\"\n",
        "foods_sorted = sorted(os.listdir(data_dir))\n",
        "food_id = 0\n",
        "for i in range(rows):\n",
        "  for j in range(cols):\n",
        "    try:\n",
        "      food_selected = foods_sorted[food_id] \n",
        "      food_id += 1\n",
        "    except:\n",
        "      break\n",
        "    if food_selected == '.DS_Store':\n",
        "        continue\n",
        "    food_selected_images = os.listdir(os.path.join(data_dir,food_selected)) # returns the list of all files present in each food category\n",
        "    food_selected_random = np.random.choice(food_selected_images) # picks one food item from the list as choice, takes a list and returns one random item\n",
        "    img = plt.imread(os.path.join(data_dir,food_selected, food_selected_random))\n",
        "    ax[i][j].imshow(img)\n",
        "    ax[i][j].set_title(food_selected, pad = 10)\n",
        "    \n",
        "plt.setp(ax, xticks=[],yticks=[])\n",
        "plt.tight_layout()\n",
        "# https://matplotlib.org/users/tight_layout_guide.html"
      ],
      "metadata": {
        "id": "_ayFV3CoynpA"
      },
      "execution_count": null,
      "outputs": []
    },
    {
      "cell_type": "markdown",
      "source": [
        "A Basic CNN using Pytorch Lightining"
      ],
      "metadata": {
        "id": "f0R8CKI7nFRL"
      }
    },
    {
      "cell_type": "code",
      "source": [
        "#Reference\n",
        "#https://www.kaggle.com/code/shivanandmn/cnn-pytorch-lightning-beginners-model\n",
        "class_num=5\n",
        "img_size = 64\n",
        "class Food101Model(pl.LightningModule):\n",
        "    def __init__(self):\n",
        "      #image_size = 64\n",
        "      super().__init__()\n",
        "      self.cnv = nn.Conv2d(3,128,5,4)\n",
        "      self.rel = nn.ReLU()\n",
        "      self.bn = nn.BatchNorm2d(128)\n",
        "      self.mxpool = nn.MaxPool2d(4)\n",
        "      self.flat = nn.Flatten()\n",
        "      self.fc1 = nn.Linear(1152,64)\n",
        "      self.fc2 = nn.Linear(64,64)\n",
        "      self.fc3 = nn.Linear(64,class_num)\n",
        "      self.softmax = nn.Softmax()\n",
        "      self.accuracy = pl.metrics.Accuracy()\n",
        "\n",
        "    def forward(self,x):\n",
        "      out = self.bn(self.rel(self.cnv(x)))\n",
        "      out = self.flat(self.mxpool(out))\n",
        "      out = self.rel(self.fc1(out))\n",
        "      out = self.rel(self.fc2(out))\n",
        "      out = self.fc3(out)\n",
        "      return out\n",
        "\n",
        "    def loss_fn(self,out,target):\n",
        "      return nn.CrossEntropyLoss()(out.view(-1,class_num),target)\n",
        "    \n",
        "    def configure_optimizers(self):\n",
        "      LR = 1e-3\n",
        "      optimizer = torch.optim.AdamW(self.parameters(),lr=LR)\n",
        "      return optimizer\n",
        "\n",
        "    def training_step(self,batch,batch_idx):\n",
        "      x,y = batch[\"x\"],batch[\"y\"]\n",
        "      img = x.view(-1,3,img_size,img_size)\n",
        "      label = y.view(-1)\n",
        "      out = self(img)\n",
        "      loss = self.loss_fn(out,label)\n",
        "      self.log('train_loss', loss)\n",
        "      return loss       \n",
        "\n",
        "    def validation_step(self,batch,batch_idx):\n",
        "      x,y = batch[\"x\"],batch[\"y\"]\n",
        "      img = x.view(-1,3,img_size,img_size)\n",
        "      label = y.view(-1)\n",
        "      out = self(img)\n",
        "      loss = self.loss_fn(out,label)\n",
        "      out = nn.Softmax(-1)(out) \n",
        "      logits = torch.argmax(out,dim=1)\n",
        "      accu = self.accuracy(logits, label)        \n",
        "      self.log('valid_loss', loss)\n",
        "      self.log('train_acc_step', accu)\n",
        "      return loss, accu"
      ],
      "metadata": {
        "id": "WEqLHksdnDZb"
      },
      "execution_count": 28,
      "outputs": []
    },
    {
      "cell_type": "code",
      "source": [
        "#Getting the dataset\n",
        "x_train = pd.read_csv('food-101/meta/train.txt', header = None, names=['path'])\n",
        "#x_train.head()\n",
        "x_test = pd.read_csv('food-101/meta/test.txt', header = None, names=['path'])\n",
        "x_test.head()"
      ],
      "metadata": {
        "colab": {
          "base_uri": "https://localhost:8080/",
          "height": 206
        },
        "id": "_OYiByluA3ls",
        "outputId": "92ac3c1d-8a99-468e-8c77-47553ebb5c52"
      },
      "execution_count": 31,
      "outputs": [
        {
          "output_type": "execute_result",
          "data": {
            "text/plain": [
              "                path\n",
              "0  apple_pie/1011328\n",
              "1   apple_pie/101251\n",
              "2  apple_pie/1034399\n",
              "3   apple_pie/103801\n",
              "4  apple_pie/1038694"
            ],
            "text/html": [
              "\n",
              "  <div id=\"df-4670a93d-d147-4742-ae98-7f1bac0cdec3\">\n",
              "    <div class=\"colab-df-container\">\n",
              "      <div>\n",
              "<style scoped>\n",
              "    .dataframe tbody tr th:only-of-type {\n",
              "        vertical-align: middle;\n",
              "    }\n",
              "\n",
              "    .dataframe tbody tr th {\n",
              "        vertical-align: top;\n",
              "    }\n",
              "\n",
              "    .dataframe thead th {\n",
              "        text-align: right;\n",
              "    }\n",
              "</style>\n",
              "<table border=\"1\" class=\"dataframe\">\n",
              "  <thead>\n",
              "    <tr style=\"text-align: right;\">\n",
              "      <th></th>\n",
              "      <th>path</th>\n",
              "    </tr>\n",
              "  </thead>\n",
              "  <tbody>\n",
              "    <tr>\n",
              "      <th>0</th>\n",
              "      <td>apple_pie/1011328</td>\n",
              "    </tr>\n",
              "    <tr>\n",
              "      <th>1</th>\n",
              "      <td>apple_pie/101251</td>\n",
              "    </tr>\n",
              "    <tr>\n",
              "      <th>2</th>\n",
              "      <td>apple_pie/1034399</td>\n",
              "    </tr>\n",
              "    <tr>\n",
              "      <th>3</th>\n",
              "      <td>apple_pie/103801</td>\n",
              "    </tr>\n",
              "    <tr>\n",
              "      <th>4</th>\n",
              "      <td>apple_pie/1038694</td>\n",
              "    </tr>\n",
              "  </tbody>\n",
              "</table>\n",
              "</div>\n",
              "      <button class=\"colab-df-convert\" onclick=\"convertToInteractive('df-4670a93d-d147-4742-ae98-7f1bac0cdec3')\"\n",
              "              title=\"Convert this dataframe to an interactive table.\"\n",
              "              style=\"display:none;\">\n",
              "        \n",
              "  <svg xmlns=\"http://www.w3.org/2000/svg\" height=\"24px\"viewBox=\"0 0 24 24\"\n",
              "       width=\"24px\">\n",
              "    <path d=\"M0 0h24v24H0V0z\" fill=\"none\"/>\n",
              "    <path d=\"M18.56 5.44l.94 2.06.94-2.06 2.06-.94-2.06-.94-.94-2.06-.94 2.06-2.06.94zm-11 1L8.5 8.5l.94-2.06 2.06-.94-2.06-.94L8.5 2.5l-.94 2.06-2.06.94zm10 10l.94 2.06.94-2.06 2.06-.94-2.06-.94-.94-2.06-.94 2.06-2.06.94z\"/><path d=\"M17.41 7.96l-1.37-1.37c-.4-.4-.92-.59-1.43-.59-.52 0-1.04.2-1.43.59L10.3 9.45l-7.72 7.72c-.78.78-.78 2.05 0 2.83L4 21.41c.39.39.9.59 1.41.59.51 0 1.02-.2 1.41-.59l7.78-7.78 2.81-2.81c.8-.78.8-2.07 0-2.86zM5.41 20L4 18.59l7.72-7.72 1.47 1.35L5.41 20z\"/>\n",
              "  </svg>\n",
              "      </button>\n",
              "      \n",
              "  <style>\n",
              "    .colab-df-container {\n",
              "      display:flex;\n",
              "      flex-wrap:wrap;\n",
              "      gap: 12px;\n",
              "    }\n",
              "\n",
              "    .colab-df-convert {\n",
              "      background-color: #E8F0FE;\n",
              "      border: none;\n",
              "      border-radius: 50%;\n",
              "      cursor: pointer;\n",
              "      display: none;\n",
              "      fill: #1967D2;\n",
              "      height: 32px;\n",
              "      padding: 0 0 0 0;\n",
              "      width: 32px;\n",
              "    }\n",
              "\n",
              "    .colab-df-convert:hover {\n",
              "      background-color: #E2EBFA;\n",
              "      box-shadow: 0px 1px 2px rgba(60, 64, 67, 0.3), 0px 1px 3px 1px rgba(60, 64, 67, 0.15);\n",
              "      fill: #174EA6;\n",
              "    }\n",
              "\n",
              "    [theme=dark] .colab-df-convert {\n",
              "      background-color: #3B4455;\n",
              "      fill: #D2E3FC;\n",
              "    }\n",
              "\n",
              "    [theme=dark] .colab-df-convert:hover {\n",
              "      background-color: #434B5C;\n",
              "      box-shadow: 0px 1px 3px 1px rgba(0, 0, 0, 0.15);\n",
              "      filter: drop-shadow(0px 1px 2px rgba(0, 0, 0, 0.3));\n",
              "      fill: #FFFFFF;\n",
              "    }\n",
              "  </style>\n",
              "\n",
              "      <script>\n",
              "        const buttonEl =\n",
              "          document.querySelector('#df-4670a93d-d147-4742-ae98-7f1bac0cdec3 button.colab-df-convert');\n",
              "        buttonEl.style.display =\n",
              "          google.colab.kernel.accessAllowed ? 'block' : 'none';\n",
              "\n",
              "        async function convertToInteractive(key) {\n",
              "          const element = document.querySelector('#df-4670a93d-d147-4742-ae98-7f1bac0cdec3');\n",
              "          const dataTable =\n",
              "            await google.colab.kernel.invokeFunction('convertToInteractive',\n",
              "                                                     [key], {});\n",
              "          if (!dataTable) return;\n",
              "\n",
              "          const docLinkHtml = 'Like what you see? Visit the ' +\n",
              "            '<a target=\"_blank\" href=https://colab.research.google.com/notebooks/data_table.ipynb>data table notebook</a>'\n",
              "            + ' to learn more about interactive tables.';\n",
              "          element.innerHTML = '';\n",
              "          dataTable['output_type'] = 'display_data';\n",
              "          await google.colab.output.renderOutput(dataTable, element);\n",
              "          const docLink = document.createElement('div');\n",
              "          docLink.innerHTML = docLinkHtml;\n",
              "          element.appendChild(docLink);\n",
              "        }\n",
              "      </script>\n",
              "    </div>\n",
              "  </div>\n",
              "  "
            ]
          },
          "metadata": {},
          "execution_count": 31
        }
      ]
    },
    {
      "cell_type": "code",
      "source": [
        "#references\n",
        "#https://www.kaggle.com/code/uzairshahmdn/food101-midterm-exam\n",
        "def split(data, id='id'):\n",
        "    if id.upper() == 'CLASS':\n",
        "        food_name = data.split('/')[0]  \n",
        "    else:\n",
        "        food_name = data.split('/')[-1]\n",
        "    return food_name"
      ],
      "metadata": {
        "id": "F7TM6oTYI5Yg"
      },
      "execution_count": 33,
      "outputs": []
    },
    {
      "cell_type": "code",
      "source": [
        "y_train = x_train['path'].map(lambda x: split(data = x, id = 'Class'))\n",
        "#y_train.head()\n",
        "len(y_train)"
      ],
      "metadata": {
        "colab": {
          "base_uri": "https://localhost:8080/"
        },
        "id": "FsNH5YBbJCco",
        "outputId": "2313ef92-cd5e-4b61-aa08-fc14ee23b99c"
      },
      "execution_count": 36,
      "outputs": [
        {
          "output_type": "execute_result",
          "data": {
            "text/plain": [
              "75750"
            ]
          },
          "metadata": {},
          "execution_count": 36
        }
      ]
    },
    {
      "cell_type": "code",
      "source": [
        "y_test = x_test['path'].map(lambda x: split(data = x, id = 'Class'))\n",
        "len(y_test)"
      ],
      "metadata": {
        "colab": {
          "base_uri": "https://localhost:8080/"
        },
        "id": "W2W7V1_KK6UT",
        "outputId": "544b7ec6-2b76-468c-a10c-fc470ceb8833"
      },
      "execution_count": 37,
      "outputs": [
        {
          "output_type": "execute_result",
          "data": {
            "text/plain": [
              "25250"
            ]
          },
          "metadata": {},
          "execution_count": 37
        }
      ]
    }
  ]
}