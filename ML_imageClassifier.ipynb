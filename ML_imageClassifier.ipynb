{
  "nbformat": 4,
  "nbformat_minor": 0,
  "metadata": {
    "colab": {
      "name": "ML_imageClassifier.ipynb",
      "provenance": [],
      "authorship_tag": "ABX9TyM33rHJ2pBwkpbcA+ytbT0T",
      "include_colab_link": true
    },
    "kernelspec": {
      "name": "python3",
      "display_name": "Python 3"
    },
    "language_info": {
      "name": "python"
    }
  },
  "cells": [
    {
      "cell_type": "markdown",
      "metadata": {
        "id": "view-in-github",
        "colab_type": "text"
      },
      "source": [
        "<a href=\"https://colab.research.google.com/github/nssn96/ML_imageclassifier/blob/main/ML_imageClassifier.ipynb\" target=\"_parent\"><img src=\"https://colab.research.google.com/assets/colab-badge.svg\" alt=\"Open In Colab\"/></a>"
      ]
    },
    {
      "cell_type": "markdown",
      "source": [
        "# ML Assignment 5 - Image Classification\n",
        "\n",
        "\n",
        "1.   Author : Surya Narayanan Nadhamuni Suresh\n",
        "2.   UTA ID : 1001877873\n"
      ],
      "metadata": {
        "id": "cB7z5EzKjITQ"
      }
    },
    {
      "cell_type": "code",
      "execution_count": null,
      "metadata": {
        "id": "RviIAPw1i5IH"
      },
      "outputs": [],
      "source": [
        "#import lines\n",
        "import numpy as np\n",
        "import pandas as pd\n",
        "import matplotlib.pyplot as plt\n",
        "from sklearn.metrics import mean_squared_error\n",
        "from sklearn.model_selection import train_test_split\n",
        "import random\n",
        "import pickle"
      ]
    }
  ]
}